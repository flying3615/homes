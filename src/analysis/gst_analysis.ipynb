{
 "cells": [
  {
   "cell_type": "code",
   "execution_count": 16,
   "outputs": [
    {
     "data": {
      "text/plain": "''"
     },
     "execution_count": 16,
     "metadata": {},
     "output_type": "execute_result"
    }
   ],
   "source": [
    "import pandas as pd\n",
    "import os\n",
    "from tkinter import Tk, filedialog\n",
    "\n",
    "root = Tk()\n",
    "root.withdraw()"
   ],
   "metadata": {
    "collapsed": false,
    "pycharm": {
     "name": "#%%\n"
    }
   }
  },
  {
   "cell_type": "markdown",
   "source": [
    "### 定义函数进行模糊匹配"
   ],
   "metadata": {
    "collapsed": false
   }
  },
  {
   "cell_type": "code",
   "execution_count": 17,
   "outputs": [],
   "source": [
    "def fuzzy_match(data, column, keywords):\n",
    "    # Initialize an empty DataFrame to store the results\n",
    "    result_df = pd.DataFrame()\n",
    "\n",
    "    # Iterate over each keyword and append the matching rows to the result DataFrame\n",
    "    for keyword in keywords:\n",
    "        keyword_match = data[data[column].str.contains(keyword, case=False, na=False)]\n",
    "        result_df = pd.concat([result_df, keyword_match], ignore_index=True)\n",
    "\n",
    "    return result_df\n"
   ],
   "metadata": {
    "collapsed": false,
    "pycharm": {
     "name": "#%%\n"
    }
   }
  },
  {
   "cell_type": "markdown",
   "source": [
    "### 输入多个CSV文件路径，以及要匹配的列和关键字"
   ],
   "metadata": {
    "collapsed": false
   }
  },
  {
   "cell_type": "code",
   "execution_count": 18,
   "outputs": [
    {
     "name": "stderr",
     "output_type": "stream",
     "text": [
      "2023-11-11 14:12:26.926 Python[3989:103019] +[CATransaction synchronize] called within transaction\n",
      "2023-11-11 14:12:26.960 Python[3989:103019] +[CATransaction synchronize] called within transaction\n",
      "2023-11-11 14:12:29.836 Python[3989:103019] +[CATransaction synchronize] called within transaction\n"
     ]
    },
    {
     "name": "stdout",
     "output_type": "stream",
     "text": [
      "保险类别每月Amount的和：\n",
      "selectDate\n",
      "2023-04    468.60\n",
      "2023-05    468.60\n",
      "2023-06    517.72\n",
      "2023-07    504.60\n",
      "2023-08    468.60\n",
      "Freq: M, Name: Amount, dtype: float64\n",
      "\n",
      "汽油类别每月Amount的和：\n",
      "selectDate\n",
      "2023-04     371.33\n",
      "2023-05     313.82\n",
      "2023-06    2465.29\n",
      "Freq: M, Name: Amount, dtype: float64\n",
      "\n",
      "电费类别每月Amount的和：\n",
      "selectDate\n",
      "2023-04    192.33\n",
      "2023-05    190.10\n",
      "2023-06    227.25\n",
      "2023-07    231.61\n",
      "2023-08    276.59\n",
      "2023-09    257.77\n",
      "Freq: M, Name: Amount, dtype: float64\n",
      "\n",
      "路途类别每月Amount的和：\n",
      "selectDate\n",
      "2023-04    20.0\n",
      "2023-05    20.0\n",
      "2023-06    40.0\n",
      "2023-08    20.0\n",
      "Freq: M, Name: Amount, dtype: float64\n",
      "\n",
      "垃圾类别每月Amount的和：\n",
      "selectDate\n",
      "2023-05    108.80\n",
      "2023-07     55.95\n",
      "Freq: M, Name: Amount, dtype: float64\n",
      "\n",
      "教育类别每月Amount的和：\n",
      "selectDate\n",
      "2023-06     3.75\n",
      "2023-07    92.97\n",
      "2023-08    30.12\n",
      "Freq: M, Name: Amount, dtype: float64\n",
      "\n",
      "网络类别每月Amount的和：\n",
      "selectDate\n",
      "2023-04     52375.57\n",
      "2023-05     73335.36\n",
      "2023-06    196840.29\n",
      "2023-07     44931.39\n",
      "2023-08     48140.54\n",
      "2023-09    112017.04\n",
      "Freq: M, Name: Amount, dtype: float64\n",
      "\n",
      "娱乐类别每月Amount的和：\n",
      "selectDate\n",
      "2023-04     42.00\n",
      "2023-05     82.97\n",
      "2023-06     38.50\n",
      "2023-07     84.60\n",
      "2023-08    238.78\n",
      "Freq: M, Name: Amount, dtype: float64\n",
      "\n",
      "车保险类别每月Amount的和：\n",
      "selectDate\n",
      "2023-06    932.93\n",
      "Freq: M, Name: Amount, dtype: float64\n",
      "\n",
      "办公用品类别每月Amount的和：\n",
      "selectDate\n",
      "2023-04    100.00\n",
      "2023-05    257.04\n",
      "2023-06    100.00\n",
      "2023-07    100.00\n",
      "2023-08    100.00\n",
      "Freq: M, Name: Amount, dtype: float64\n",
      "\n",
      "房租类别每月Amount的和：\n",
      "selectDate\n",
      "2023-04    2720.0\n",
      "2023-05    3400.0\n",
      "2023-06    2720.0\n",
      "2023-07    2720.0\n",
      "2023-08    3400.0\n",
      "2023-09    2720.0\n",
      "Freq: M, Name: Amount, dtype: float64\n"
     ]
    }
   ],
   "source": [
    "import os\n",
    "import pandas as pd\n",
    "from tkinter import Tk, filedialog\n",
    "import matplotlib.pyplot as plt\n",
    "import seaborn as sns\n",
    "\n",
    "def fuzzy_match_and_sum(data, column_to_match, keywords, date_column):\n",
    "    matched_data = fuzzy_match(data, column_to_match, keywords)\n",
    "    matched_data[date_column] = pd.to_datetime(matched_data[date_column], format='%d/%m/%Y')\n",
    "    matched_data['Amount'] = matched_data['Amount'].abs()  # 将Amount列转换为正数\n",
    "    monthly_sum = matched_data.groupby(matched_data[date_column].dt.to_period(\"M\"))['Amount'].sum()\n",
    "    return monthly_sum\n",
    "\n",
    "def plot_pie_chart(monthly_sums, labels):\n",
    "    plt.figure(figsize=(8, 8))\n",
    "    plt.pie(monthly_sums, labels=labels, autopct='%1.1f%%', startangle=90)\n",
    "    plt.title(f\"Monthly Expense Distribution - {monthly_sums.name}\")\n",
    "    plt.show()\n",
    "\n",
    "# 创建tkinter根窗口并隐藏\n",
    "root = Tk()\n",
    "root.withdraw()\n",
    "\n",
    "# 用户选择包含CSV文件的目录\n",
    "directory = filedialog.askdirectory(title=\"请选择包含CSV文件的目录\")\n",
    "\n",
    "# 获取目录及子目录中的所有CSV文件\n",
    "file_paths = [os.path.join(root_folder, file) for root_folder, _, files in os.walk(directory) for file in files if file.endswith('.csv')]\n",
    "\n",
    "if not file_paths:\n",
    "    print(\"指定目录中没有找到CSV文件。请确保目录中包含CSV文件并重试。\")\n",
    "else:\n",
    "    # 读取并合并CSV文件\n",
    "    dfs = [pd.read_csv(file_path) for file_path in file_paths]\n",
    "    merged_data = pd.concat(dfs, ignore_index=True)\n",
    "\n",
    "    # 创建 'selectDate' 列，并根据 'Date' 和 'TransactionDate' 中的有效值进行赋值\n",
    "    merged_data['selectDate'] = merged_data['Date'].combine_first(merged_data['TransactionDate'])\n",
    "\n",
    "    # 仅选择Details, 选择的日期列（Date 或 TransactionDate），和 Amount 列\n",
    "    selected_columns = ['Details', 'Amount', 'selectDate']\n",
    "    merged_data = merged_data[selected_columns]\n",
    "\n",
    "    # 用户输入要匹配的列名和关键字\n",
    "    column_to_match = 'Details'\n",
    "\n",
    "    # 一组关键字进行类比匹配\n",
    "    insurance_keywords = ['Aia Nz Ltd', 'Aia vitality', 'Asteron Life Limited']\n",
    "    electricity_keywords=['Contact Energy']\n",
    "    travel_car_keywords = ['Bp', 'Pak N Save Fuel', 'Z Kapiti', 'Z Energy Sharetank']\n",
    "    travel_keywords = ['Snapper Services']\n",
    "    house_keywords = ['Kapiti Coast Prop Mg']\n",
    "    rubbish_keywords = ['Waste Management']\n",
    "    education_keywords = ['Chatgpt Subscription', 'Openai', 'Github  Inc']\n",
    "    internet_keywords = ['']\n",
    "    entertainment_keywords = ['Google Youtube', 'Event Cinemas', 'Dominos', 'Mcdonald', 'Staglands Wildlife']\n",
    "    car_insurance_keywords=['Aa Insurance']\n",
    "    office_keywords=['Nespresso Nz', 'Pb Technologies']\n",
    "    accountant_keywords=['Solis Charter']\n",
    "\n",
    "    # 调用函数进行匹配和按月汇总\n",
    "    monthly_insurance_sum  = fuzzy_match_and_sum(merged_data, column_to_match, insurance_keywords, 'selectDate')\n",
    "    monthly_travel_car_sum = fuzzy_match_and_sum(merged_data, column_to_match, travel_car_keywords, 'selectDate')\n",
    "    monthly_electricity_sum = fuzzy_match_and_sum(merged_data, column_to_match, electricity_keywords, 'selectDate')\n",
    "    monthly_travel_sum = fuzzy_match_and_sum(merged_data, column_to_match, travel_keywords, 'selectDate')\n",
    "    monthly_rubbish_sum = fuzzy_match_and_sum(merged_data, column_to_match, rubbish_keywords, 'selectDate')\n",
    "    monthly_education_sum = fuzzy_match_and_sum(merged_data, column_to_match, education_keywords, 'selectDate')\n",
    "    monthly_internet_sum = fuzzy_match_and_sum(merged_data, column_to_match, internet_keywords, 'selectDate')\n",
    "    monthly_entertainment_sum = fuzzy_match_and_sum(merged_data, column_to_match, entertainment_keywords, 'selectDate')\n",
    "    monthly_car_insurance_sum = fuzzy_match_and_sum(merged_data, column_to_match, car_insurance_keywords, 'selectDate')\n",
    "    monthly_office_sum = fuzzy_match_and_sum(merged_data, column_to_match, office_keywords, 'selectDate')\n",
    "    monthly_house_sum = fuzzy_match_and_sum(merged_data, column_to_match, house_keywords, 'selectDate')\n",
    "    monthly_accountant_sum = fuzzy_match_and_sum(merged_data, column_to_match, accountant_keywords, 'selectDate')\n",
    "\n",
    "\n",
    "    # 打印每月Amount的和\n",
    "    print(\"保险类别每月Amount的和：\")\n",
    "    print(monthly_insurance_sum)\n",
    "\n",
    "    print(\"\\n汽油类别每月Amount的和：\")\n",
    "    print(monthly_travel_car_sum)\n",
    "\n",
    "    print(\"\\n电费类别每月Amount的和：\")\n",
    "    print(monthly_electricity_sum)\n",
    "\n",
    "    print(\"\\n路途类别每月Amount的和：\")\n",
    "    print(monthly_travel_sum)\n",
    "\n",
    "    print(\"\\n垃圾类别每月Amount的和：\")\n",
    "    print(monthly_rubbish_sum)\n",
    "\n",
    "    print(\"\\n教育类别每月Amount的和：\")\n",
    "    print(monthly_education_sum)\n",
    "\n",
    "    print(\"\\n网络类别每月Amount的和：\")\n",
    "    print(monthly_internet_sum)\n",
    "\n",
    "    print(\"\\n娱乐类别每月Amount的和：\")\n",
    "    print(monthly_entertainment_sum)\n",
    "\n",
    "    print(\"\\n车保险类别每月Amount的和：\")\n",
    "    print(monthly_car_insurance_sum)\n",
    "\n",
    "    print(\"\\n办公用品类别每月Amount的和：\")\n",
    "    print(monthly_office_sum)\n",
    "\n",
    "    print(\"\\n房租类别每月Amount的和：\")\n",
    "    print(monthly_house_sum)\n",
    "\n",
    "    print(\"\\n会计类别每月Amount的和：\")\n",
    "    print(monthly_house_sum)\n",
    "\n",
    "    # 绘制饼状图\n",
    "    # labels = ['Insurance', 'Travel Car', 'House']\n",
    "    # for month, monthly_sums in zip(labels, [monthly_insurance_sum, monthly_travel_car_sum, monthly_house_sum]):\n",
    "    #     plot_pie_chart(monthly_sums, labels)"
   ],
   "metadata": {
    "collapsed": false,
    "pycharm": {
     "name": "#%%\n"
    }
   }
  }
 ],
 "metadata": {
  "kernelspec": {
   "display_name": "Python 3",
   "language": "python",
   "name": "python3"
  },
  "language_info": {
   "codemirror_mode": {
    "name": "ipython",
    "version": 2
   },
   "file_extension": ".py",
   "mimetype": "text/x-python",
   "name": "python",
   "nbconvert_exporter": "python",
   "pygments_lexer": "ipython2",
   "version": "2.7.6"
  },
  "pycharm": {
   "stem_cell": {
    "cell_type": "raw",
    "source": [
     "\n"
    ],
    "metadata": {
     "collapsed": false
    }
   }
  }
 },
 "nbformat": 4,
 "nbformat_minor": 0
}