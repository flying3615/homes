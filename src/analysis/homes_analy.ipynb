{
 "cells": [
  {
   "cell_type": "code",
   "execution_count": 309,
   "metadata": {
    "collapsed": true
   },
   "outputs": [],
   "source": [
    "import pandas as pd\n",
    "import seaborn as sns\n",
    "import matplotlib.pyplot as plt\n",
    "import missingno as msno\n",
    "import numpy as np"
   ]
  },
  {
   "cell_type": "markdown",
   "source": [
    "## Load All Pram Sold Data"
   ],
   "metadata": {
    "collapsed": false
   }
  },
  {
   "cell_type": "code",
   "execution_count": 310,
   "outputs": [],
   "source": [
    "df = pd.read_json('../../data/refined_data.json')"
   ],
   "metadata": {
    "collapsed": false
   }
  },
  {
   "cell_type": "code",
   "execution_count": 311,
   "outputs": [
    {
     "name": "stdout",
     "output_type": "stream",
     "text": [
      "<class 'pandas.core.frame.DataFrame'>\n",
      "RangeIndex: 633 entries, 0 to 632\n",
      "Data columns (total 26 columns):\n",
      " #   Column                                Non-Null Count  Dtype              \n",
      "---  ------                                --------------  -----              \n",
      " 0   property_id                           633 non-null    object             \n",
      " 1   date                                  633 non-null    datetime64[ns, UTC]\n",
      " 2   price                                 558 non-null    float64            \n",
      " 3   sales_count                           633 non-null    int64              \n",
      " 4   url                                   633 non-null    object             \n",
      " 5   address                               633 non-null    object             \n",
      " 6   street                                633 non-null    object             \n",
      " 7   street_number                         633 non-null    int64              \n",
      " 8   suburb                                628 non-null    object             \n",
      " 9   solar                                 563 non-null    object             \n",
      " 10  capital_value                         633 non-null    int64              \n",
      " 11  land_value                            633 non-null    int64              \n",
      " 12  improvement_value                     633 non-null    int64              \n",
      " 13  display_estimated_rental_lower_value  594 non-null    float64            \n",
      " 14  display_estimated_rental_upper_value  594 non-null    float64            \n",
      " 15  display_estimated_lower_value         633 non-null    int64              \n",
      " 16  display_estimated_upper_value         633 non-null    int64              \n",
      " 17  estimated_rental_yield                633 non-null    object             \n",
      " 18  num_car_spaces                        633 non-null    int64              \n",
      " 19  bath_estimate                         621 non-null    float64            \n",
      " 20  bed_estimate                          621 non-null    float64            \n",
      " 21  floor_area                            633 non-null    int64              \n",
      " 22  land_area                             633 non-null    int64              \n",
      " 23  has_deck                              633 non-null    bool               \n",
      " 24  decade_built                          596 non-null    float64            \n",
      " 25  agent                                 633 non-null    object             \n",
      "dtypes: bool(1), datetime64[ns, UTC](1), float64(6), int64(10), object(8)\n",
      "memory usage: 124.4+ KB\n"
     ]
    }
   ],
   "source": [
    "df.info()"
   ],
   "metadata": {
    "collapsed": false
   }
  },
  {
   "cell_type": "markdown",
   "source": [
    "## Replace url with the real url"
   ],
   "metadata": {
    "collapsed": false
   }
  },
  {
   "cell_type": "code",
   "execution_count": 312,
   "outputs": [],
   "source": [
    "df['url'] = df['url'].apply(lambda x: f\"https://homes.co.nz/address{x}\")"
   ],
   "metadata": {
    "collapsed": false
   }
  },
  {
   "cell_type": "code",
   "execution_count": 313,
   "outputs": [
    {
     "name": "stderr",
     "output_type": "stream",
     "text": [
      "C:\\Users\\YLui\\AppData\\Local\\Temp\\ipykernel_2168\\4002368205.py:1: UserWarning: Converting to PeriodArray/Index representation will drop timezone information.\n",
      "  df['date_month'] = pd.to_datetime(df['date']).dt.to_period('M')\n"
     ]
    }
   ],
   "source": [
    "df['date_month'] = pd.to_datetime(df['date']).dt.to_period('M')"
   ],
   "metadata": {
    "collapsed": false
   }
  },
  {
   "cell_type": "markdown",
   "source": [
    "## Show the data with duplicated address and only keep the highest price one"
   ],
   "metadata": {
    "collapsed": false
   }
  },
  {
   "cell_type": "code",
   "execution_count": 314,
   "outputs": [
    {
     "data": {
      "text/plain": "                                               address date_month     price  \\\n291       25 Hollis Rd, Paraparaumu Beach, Paraparaumu    2023-02  550000.0   \n358       25 Hollis Rd, Paraparaumu Beach, Paraparaumu    2022-12  510000.0   \n378           72 Rimu Road, Raumati Beach, Paraparaumu    2022-12  476000.0   \n379           72 Rimu Road, Raumati Beach, Paraparaumu    2022-12  500000.0   \n417           72 Rimu Road, Raumati Beach, Paraparaumu    2022-11  440000.0   \n569  57 Mazengarb Road, Paraparaumu Beach, Paraparaumu    2022-09       NaN   \n599  57 Mazengarb Road, Paraparaumu Beach, Paraparaumu    2022-08  681000.0   \n\n                                                   url  decade_built  \n291  https://homes.co.nz/address/paraparaumu/parapa...        1970.0  \n358  https://homes.co.nz/address/paraparaumu/parapa...        1970.0  \n378  https://homes.co.nz/address/paraparaumu/raumat...        1990.0  \n379  https://homes.co.nz/address/paraparaumu/raumat...        1990.0  \n417  https://homes.co.nz/address/paraparaumu/raumat...        1990.0  \n569  https://homes.co.nz/address/paraparaumu/parapa...        1970.0  \n599  https://homes.co.nz/address/paraparaumu/parapa...        1970.0  ",
      "text/html": "<div>\n<style scoped>\n    .dataframe tbody tr th:only-of-type {\n        vertical-align: middle;\n    }\n\n    .dataframe tbody tr th {\n        vertical-align: top;\n    }\n\n    .dataframe thead th {\n        text-align: right;\n    }\n</style>\n<table border=\"1\" class=\"dataframe\">\n  <thead>\n    <tr style=\"text-align: right;\">\n      <th></th>\n      <th>address</th>\n      <th>date_month</th>\n      <th>price</th>\n      <th>url</th>\n      <th>decade_built</th>\n    </tr>\n  </thead>\n  <tbody>\n    <tr>\n      <th>291</th>\n      <td>25 Hollis Rd, Paraparaumu Beach, Paraparaumu</td>\n      <td>2023-02</td>\n      <td>550000.0</td>\n      <td>https://homes.co.nz/address/paraparaumu/parapa...</td>\n      <td>1970.0</td>\n    </tr>\n    <tr>\n      <th>358</th>\n      <td>25 Hollis Rd, Paraparaumu Beach, Paraparaumu</td>\n      <td>2022-12</td>\n      <td>510000.0</td>\n      <td>https://homes.co.nz/address/paraparaumu/parapa...</td>\n      <td>1970.0</td>\n    </tr>\n    <tr>\n      <th>378</th>\n      <td>72 Rimu Road, Raumati Beach, Paraparaumu</td>\n      <td>2022-12</td>\n      <td>476000.0</td>\n      <td>https://homes.co.nz/address/paraparaumu/raumat...</td>\n      <td>1990.0</td>\n    </tr>\n    <tr>\n      <th>379</th>\n      <td>72 Rimu Road, Raumati Beach, Paraparaumu</td>\n      <td>2022-12</td>\n      <td>500000.0</td>\n      <td>https://homes.co.nz/address/paraparaumu/raumat...</td>\n      <td>1990.0</td>\n    </tr>\n    <tr>\n      <th>417</th>\n      <td>72 Rimu Road, Raumati Beach, Paraparaumu</td>\n      <td>2022-11</td>\n      <td>440000.0</td>\n      <td>https://homes.co.nz/address/paraparaumu/raumat...</td>\n      <td>1990.0</td>\n    </tr>\n    <tr>\n      <th>569</th>\n      <td>57 Mazengarb Road, Paraparaumu Beach, Paraparaumu</td>\n      <td>2022-09</td>\n      <td>NaN</td>\n      <td>https://homes.co.nz/address/paraparaumu/parapa...</td>\n      <td>1970.0</td>\n    </tr>\n    <tr>\n      <th>599</th>\n      <td>57 Mazengarb Road, Paraparaumu Beach, Paraparaumu</td>\n      <td>2022-08</td>\n      <td>681000.0</td>\n      <td>https://homes.co.nz/address/paraparaumu/parapa...</td>\n      <td>1970.0</td>\n    </tr>\n  </tbody>\n</table>\n</div>"
     },
     "execution_count": 314,
     "metadata": {},
     "output_type": "execute_result"
    }
   ],
   "source": [
    "df.loc[df.duplicated(subset=['address'], keep=False), ['address','date_month', 'price', 'url', 'decade_built']]"
   ],
   "metadata": {
    "collapsed": false
   }
  },
  {
   "cell_type": "code",
   "execution_count": 315,
   "outputs": [],
   "source": [
    "df.sort_values(by=['price'], ascending=False, inplace=True)\n",
    "df.drop_duplicates(subset=['address'], keep='first', inplace=True)"
   ],
   "metadata": {
    "collapsed": false
   }
  },
  {
   "cell_type": "markdown",
   "source": [
    "## Show Missing Data"
   ],
   "metadata": {
    "collapsed": false
   }
  },
  {
   "cell_type": "code",
   "execution_count": 316,
   "outputs": [],
   "source": [
    "#msno.bar(df)"
   ],
   "metadata": {
    "collapsed": false
   }
  },
  {
   "cell_type": "code",
   "execution_count": 317,
   "outputs": [
    {
     "data": {
      "text/plain": "price                                   74\nsolar                                   70\ndisplay_estimated_rental_lower_value    39\ndisplay_estimated_rental_upper_value    39\ndecade_built                            37\nbed_estimate                            12\nbath_estimate                           12\nsuburb                                   5\ndisplay_estimated_upper_value            0\nagent                                    0\nhas_deck                                 0\nland_area                                0\nfloor_area                               0\nnum_car_spaces                           0\nestimated_rental_yield                   0\nproperty_id                              0\ndisplay_estimated_lower_value            0\ndate                                     0\nimprovement_value                        0\nland_value                               0\ncapital_value                            0\nstreet_number                            0\nstreet                                   0\naddress                                  0\nurl                                      0\nsales_count                              0\ndate_month                               0\ndtype: int64"
     },
     "execution_count": 317,
     "metadata": {},
     "output_type": "execute_result"
    }
   ],
   "source": [
    "df.isna().sum().sort_values(ascending=False)"
   ],
   "metadata": {
    "collapsed": false
   }
  },
  {
   "cell_type": "markdown",
   "source": [],
   "metadata": {
    "collapsed": false
   }
  },
  {
   "cell_type": "code",
   "execution_count": 318,
   "outputs": [],
   "source": [
    "# Fill Missing Price Data with its mean value\n",
    "#df['price'] = df['price'].replace(0, np.nan)\n",
    "#df['price'] = df['price'].fillna(df['price'].mean())"
   ],
   "metadata": {
    "collapsed": false
   }
  },
  {
   "cell_type": "markdown",
   "source": [
    "## Display the data with missing price"
   ],
   "metadata": {
    "collapsed": false
   }
  },
  {
   "cell_type": "code",
   "execution_count": 319,
   "outputs": [
    {
     "data": {
      "text/plain": "                                              address  capital_value  \\\n0                            41 Marram Way, Peka Peka        1030000   \n1                          53 Kohekohe Road, Waikanae         920000   \n2       33 Ocean Road, Paraparaumu Beach, Paraparaumu         660000   \n3     A/2 Tudor Court, Paraparaumu Beach, Paraparaumu         590000   \n4     11 Aburoc Place, Paraparaumu Beach, Paraparaumu         790000   \n..                                                ...            ...   \n514       189 Tutere Street, Waikanae Beach, Waikanae         890000   \n525   3 Trinity Place, Paraparaumu Beach, Paraparaumu         670000   \n545  17 Nathan Avenue, Paraparaumu Beach, Paraparaumu         670000   \n592                  25/17 Redwood Close, Paraparaumu         400000   \n617      17 The Esplanade, Raumati South, Paraparaumu         990000   \n\n     land_value  improvement_value  display_estimated_lower_value  \\\n0        510000             520000                           1090   \n1        510000             410000                           1020   \n2        430000             230000                         705000   \n3        330000             260000                         625000   \n4        410000             380000                         870000   \n..          ...                ...                            ...   \n514      570000             320000                         940000   \n525      360000             310000                         715000   \n545      530000             140000                         695000   \n592      235000             165000                         425000   \n617      800000             190000                           1020   \n\n     display_estimated_lower_value  \\\n0                             1090   \n1                             1020   \n2                           705000   \n3                           625000   \n4                           870000   \n..                             ...   \n514                         940000   \n525                         715000   \n545                         695000   \n592                         425000   \n617                           1020   \n\n                                                   url  \n0    https://homes.co.nz/address/peka-peka/41-marra...  \n1    https://homes.co.nz/address/waikanae/waikanae/...  \n2    https://homes.co.nz/address/paraparaumu/parapa...  \n3    https://homes.co.nz/address/paraparaumu/parapa...  \n4    https://homes.co.nz/address/paraparaumu/parapa...  \n..                                                 ...  \n514  https://homes.co.nz/address/waikanae/waikanae-...  \n525  https://homes.co.nz/address/paraparaumu/parapa...  \n545  https://homes.co.nz/address/paraparaumu/parapa...  \n592  https://homes.co.nz/address/paraparaumu/parapa...  \n617  https://homes.co.nz/address/paraparaumu/raumat...  \n\n[74 rows x 7 columns]",
      "text/html": "<div>\n<style scoped>\n    .dataframe tbody tr th:only-of-type {\n        vertical-align: middle;\n    }\n\n    .dataframe tbody tr th {\n        vertical-align: top;\n    }\n\n    .dataframe thead th {\n        text-align: right;\n    }\n</style>\n<table border=\"1\" class=\"dataframe\">\n  <thead>\n    <tr style=\"text-align: right;\">\n      <th></th>\n      <th>address</th>\n      <th>capital_value</th>\n      <th>land_value</th>\n      <th>improvement_value</th>\n      <th>display_estimated_lower_value</th>\n      <th>display_estimated_lower_value</th>\n      <th>url</th>\n    </tr>\n  </thead>\n  <tbody>\n    <tr>\n      <th>0</th>\n      <td>41 Marram Way, Peka Peka</td>\n      <td>1030000</td>\n      <td>510000</td>\n      <td>520000</td>\n      <td>1090</td>\n      <td>1090</td>\n      <td>https://homes.co.nz/address/peka-peka/41-marra...</td>\n    </tr>\n    <tr>\n      <th>1</th>\n      <td>53 Kohekohe Road, Waikanae</td>\n      <td>920000</td>\n      <td>510000</td>\n      <td>410000</td>\n      <td>1020</td>\n      <td>1020</td>\n      <td>https://homes.co.nz/address/waikanae/waikanae/...</td>\n    </tr>\n    <tr>\n      <th>2</th>\n      <td>33 Ocean Road, Paraparaumu Beach, Paraparaumu</td>\n      <td>660000</td>\n      <td>430000</td>\n      <td>230000</td>\n      <td>705000</td>\n      <td>705000</td>\n      <td>https://homes.co.nz/address/paraparaumu/parapa...</td>\n    </tr>\n    <tr>\n      <th>3</th>\n      <td>A/2 Tudor Court, Paraparaumu Beach, Paraparaumu</td>\n      <td>590000</td>\n      <td>330000</td>\n      <td>260000</td>\n      <td>625000</td>\n      <td>625000</td>\n      <td>https://homes.co.nz/address/paraparaumu/parapa...</td>\n    </tr>\n    <tr>\n      <th>4</th>\n      <td>11 Aburoc Place, Paraparaumu Beach, Paraparaumu</td>\n      <td>790000</td>\n      <td>410000</td>\n      <td>380000</td>\n      <td>870000</td>\n      <td>870000</td>\n      <td>https://homes.co.nz/address/paraparaumu/parapa...</td>\n    </tr>\n    <tr>\n      <th>...</th>\n      <td>...</td>\n      <td>...</td>\n      <td>...</td>\n      <td>...</td>\n      <td>...</td>\n      <td>...</td>\n      <td>...</td>\n    </tr>\n    <tr>\n      <th>514</th>\n      <td>189 Tutere Street, Waikanae Beach, Waikanae</td>\n      <td>890000</td>\n      <td>570000</td>\n      <td>320000</td>\n      <td>940000</td>\n      <td>940000</td>\n      <td>https://homes.co.nz/address/waikanae/waikanae-...</td>\n    </tr>\n    <tr>\n      <th>525</th>\n      <td>3 Trinity Place, Paraparaumu Beach, Paraparaumu</td>\n      <td>670000</td>\n      <td>360000</td>\n      <td>310000</td>\n      <td>715000</td>\n      <td>715000</td>\n      <td>https://homes.co.nz/address/paraparaumu/parapa...</td>\n    </tr>\n    <tr>\n      <th>545</th>\n      <td>17 Nathan Avenue, Paraparaumu Beach, Paraparaumu</td>\n      <td>670000</td>\n      <td>530000</td>\n      <td>140000</td>\n      <td>695000</td>\n      <td>695000</td>\n      <td>https://homes.co.nz/address/paraparaumu/parapa...</td>\n    </tr>\n    <tr>\n      <th>592</th>\n      <td>25/17 Redwood Close, Paraparaumu</td>\n      <td>400000</td>\n      <td>235000</td>\n      <td>165000</td>\n      <td>425000</td>\n      <td>425000</td>\n      <td>https://homes.co.nz/address/paraparaumu/parapa...</td>\n    </tr>\n    <tr>\n      <th>617</th>\n      <td>17 The Esplanade, Raumati South, Paraparaumu</td>\n      <td>990000</td>\n      <td>800000</td>\n      <td>190000</td>\n      <td>1020</td>\n      <td>1020</td>\n      <td>https://homes.co.nz/address/paraparaumu/raumat...</td>\n    </tr>\n  </tbody>\n</table>\n<p>74 rows × 7 columns</p>\n</div>"
     },
     "execution_count": 319,
     "metadata": {},
     "output_type": "execute_result"
    }
   ],
   "source": [
    "df.loc[df['price'].isna(), ['address', 'capital_value', 'land_value', 'improvement_value', 'display_estimated_lower_value','display_estimated_lower_value', 'url']]"
   ],
   "metadata": {
    "collapsed": false
   }
  },
  {
   "cell_type": "markdown",
   "source": [
    "## Drop price if is missing"
   ],
   "metadata": {
    "collapsed": false
   }
  },
  {
   "cell_type": "code",
   "execution_count": 320,
   "outputs": [],
   "source": [
    "df['price'] = df['price'].replace(0, np.nan)\n",
    "df.dropna(subset = ['price'], inplace=True)"
   ],
   "metadata": {
    "collapsed": false
   }
  },
  {
   "cell_type": "markdown",
   "source": [
    "## calculate the average price group by suburb"
   ],
   "metadata": {
    "collapsed": false
   }
  },
  {
   "cell_type": "code",
   "execution_count": 321,
   "outputs": [
    {
     "data": {
      "text/plain": "<Axes: xlabel='suburb'>"
     },
     "execution_count": 321,
     "metadata": {},
     "output_type": "execute_result"
    },
    {
     "data": {
      "text/plain": "<Figure size 640x480 with 1 Axes>",
      "image/png": "[encoded data removed]"
     },
     "metadata": {},
     "output_type": "display_data"
    }
   ],
   "source": [
    "df.groupby(['suburb'])['price'].mean().plot(kind='bar')\n"
   ],
   "metadata": {
    "collapsed": false
   }
  },
  {
   "cell_type": "markdown",
   "source": [
    "## Sales by month"
   ],
   "metadata": {
    "collapsed": false
   }
  },
  {
   "cell_type": "code",
   "execution_count": 322,
   "outputs": [
    {
     "data": {
      "text/plain": "<Axes: xlabel='date_month'>"
     },
     "execution_count": 322,
     "metadata": {},
     "output_type": "execute_result"
    },
    {
     "data": {
      "text/plain": "<Figure size 640x480 with 1 Axes>",
      "image/png": "[encoded data removed]"
     },
     "metadata": {},
     "output_type": "display_data"
    }
   ],
   "source": [
    "df.groupby(['date_month'])['date_month'].count().plot(kind='bar')"
   ],
   "metadata": {
    "collapsed": false
   }
  }
 ],
 "metadata": {
  "kernelspec": {
   "display_name": "Python 3",
   "language": "python",
   "name": "python3"
  },
  "language_info": {
   "codemirror_mode": {
    "name": "ipython",
    "version": 2
   },
   "file_extension": ".py",
   "mimetype": "text/x-python",
   "name": "python",
   "nbconvert_exporter": "python",
   "pygments_lexer": "ipython2",
   "version": "2.7.6"
  }
 },
 "nbformat": 4,
 "nbformat_minor": 0
}
