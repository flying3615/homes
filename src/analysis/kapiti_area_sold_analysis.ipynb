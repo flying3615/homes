{
 "cells": [
  {
   "cell_type": "code",
   "execution_count": null,
   "metadata": {
    "collapsed": true
   },
   "outputs": [],
   "source": [
    "import pandas as pd\n",
    "import seaborn as sns\n",
    "import matplotlib.pyplot as plt\n",
    "import numpy as np"
   ]
  },
  {
   "cell_type": "markdown",
   "source": [
    "## Load All Pram Sold Data"
   ],
   "metadata": {
    "collapsed": false
   }
  },
  {
   "cell_type": "code",
   "execution_count": null,
   "outputs": [],
   "source": [
    "df = pd.read_json('../../data/kapiti_sold.json')"
   ],
   "metadata": {
    "collapsed": false
   }
  },
  {
   "cell_type": "code",
   "execution_count": null,
   "outputs": [],
   "source": [
    "df.info()"
   ],
   "metadata": {
    "collapsed": false
   }
  },
  {
   "cell_type": "markdown",
   "source": [
    "## Replace url with the real url"
   ],
   "metadata": {
    "collapsed": false
   }
  },
  {
   "cell_type": "code",
   "execution_count": null,
   "outputs": [],
   "source": [
    "df['url'] = df['url'].apply(lambda x: f\"https://homes.co.nz/address{x}\")"
   ],
   "metadata": {
    "collapsed": false
   }
  },
  {
   "cell_type": "code",
   "execution_count": null,
   "outputs": [],
   "source": [
    "df['date_month'] = pd.to_datetime(df['date']).dt.to_period('M')"
   ],
   "metadata": {
    "collapsed": false
   }
  },
  {
   "cell_type": "markdown",
   "source": [
    "## Show the data with duplicated address and only keep the highest price one"
   ],
   "metadata": {
    "collapsed": false
   }
  },
  {
   "cell_type": "code",
   "execution_count": null,
   "outputs": [],
   "source": [
    "df.loc[df.duplicated(subset=['address'], keep=False), ['address','date_month', 'price', 'url', 'decade_built']]"
   ],
   "metadata": {
    "collapsed": false
   }
  },
  {
   "cell_type": "code",
   "execution_count": null,
   "outputs": [],
   "source": [
    "df.sort_values(by=['price'], ascending=False, inplace=True)\n",
    "df.drop_duplicates(subset=['address'], keep='first', inplace=True)"
   ],
   "metadata": {
    "collapsed": false
   }
  },
  {
   "cell_type": "markdown",
   "source": [
    "## Show Missing Data"
   ],
   "metadata": {
    "collapsed": false
   }
  },
  {
   "cell_type": "code",
   "execution_count": null,
   "outputs": [],
   "source": [
    "#msno.bar(df)"
   ],
   "metadata": {
    "collapsed": false
   }
  },
  {
   "cell_type": "code",
   "execution_count": null,
   "outputs": [],
   "source": [
    "df.isna().sum().sort_values(ascending=False)"
   ],
   "metadata": {
    "collapsed": false
   }
  },
  {
   "cell_type": "markdown",
   "source": [],
   "metadata": {
    "collapsed": false
   }
  },
  {
   "cell_type": "code",
   "execution_count": null,
   "outputs": [],
   "source": [
    "# Fill Missing Price Data with its mean value\n",
    "#df['price'] = df['price'].replace(0, np.nan)\n",
    "#df['price'] = df['price'].fillna(df['price'].mean())"
   ],
   "metadata": {
    "collapsed": false
   }
  },
  {
   "cell_type": "markdown",
   "source": [
    "## Display the data with missing price"
   ],
   "metadata": {
    "collapsed": false
   }
  },
  {
   "cell_type": "code",
   "execution_count": null,
   "outputs": [],
   "source": [
    "df.loc[df['price'].isna(), ['address', 'capital_value', 'land_value', 'improvement_value', 'display_estimated_lower_value','display_estimated_lower_value', 'url']]"
   ],
   "metadata": {
    "collapsed": false
   }
  },
  {
   "cell_type": "markdown",
   "source": [
    "## Drop price if missing"
   ],
   "metadata": {
    "collapsed": false
   }
  },
  {
   "cell_type": "code",
   "execution_count": null,
   "outputs": [],
   "source": [
    "df['price'] = df['price'].replace(0, np.nan)\n",
    "df.dropna(subset = ['price'], inplace=True)"
   ],
   "metadata": {
    "collapsed": false
   }
  },
  {
   "cell_type": "markdown",
   "source": [
    "## calculate the average price group by suburb"
   ],
   "metadata": {
    "collapsed": false
   }
  },
  {
   "cell_type": "code",
   "execution_count": null,
   "outputs": [],
   "source": [
    "df.groupby(['suburb'])['price'].mean().sort_values(ascending=False).plot(kind='bar')\n"
   ],
   "metadata": {
    "collapsed": false
   }
  },
  {
   "cell_type": "markdown",
   "source": [
    "## Sales by month"
   ],
   "metadata": {
    "collapsed": false
   }
  },
  {
   "cell_type": "code",
   "execution_count": null,
   "outputs": [],
   "source": [
    "df.groupby(['date_month'])['date_month'].count().plot(kind='bar')"
   ],
   "metadata": {
    "collapsed": false
   }
  },
  {
   "cell_type": "markdown",
   "source": [
    "## Correlation of price"
   ],
   "metadata": {
    "collapsed": false
   }
  },
  {
   "cell_type": "code",
   "execution_count": null,
   "outputs": [],
   "source": [
    "columns_of_interest = ['price',\n",
    "                       'sales_count',\n",
    "                       'capital_value',\n",
    "                       'land_value',\n",
    "                       'improvement_value',\n",
    "                       'num_car_spaces',\n",
    "                       'bath_estimate',\n",
    "                       'bed_estimate',\n",
    "                       'floor_area',\n",
    "                       'land_area',\n",
    "                       'decade_built'\n",
    "                       ]\n",
    "correlation_matrix = df[columns_of_interest].corr()\n",
    "plt.figure(figsize=(12, 10))\n",
    "sns.heatmap(correlation_matrix, annot=True, cmap='coolwarm', fmt='.2f')\n",
    "plt.title('Correlation Heatmap')\n",
    "plt.show()\n"
   ],
   "metadata": {
    "collapsed": false,
    "pycharm": {
     "name": "#%%\n"
    }
   }
  },
  {
   "cell_type": "markdown",
   "source": [
    "## calculate percentage of (price - capital_value) / capital_value"
   ],
   "metadata": {
    "collapsed": false,
    "pycharm": {
     "name": "#%% md\n"
    }
   }
  },
  {
   "cell_type": "code",
   "execution_count": null,
   "outputs": [],
   "source": [
    "df['exceed_cv_percentage'] = (df['price'] - df['capital_value']) * 100 / df['capital_value']\n",
    "\n",
    "## calculate the average exceed CV percentage group by suburb\n",
    "df.groupby(['suburb'])['exceed_cv_percentage'].mean().sort_values(ascending=False).plot(kind='bar')\n"
   ],
   "metadata": {
    "collapsed": false,
    "pycharm": {
     "name": "#%%\n"
    }
   }
  },
  {
   "cell_type": "code",
   "execution_count": null,
   "outputs": [],
   "source": [
    "# Group data by suburb and calculate relevant statistics\n",
    "grouped_data = df.groupby('suburb').agg({\n",
    "    'property_id': 'count',\n",
    "    'price': ['mean', 'min', 'max'],\n",
    "    'sales_count': 'sum',\n",
    "    'floor_area': 'mean',\n",
    "    'land_area': 'mean'\n",
    "}).reset_index()\n",
    "\n",
    "# Rename the columns for better readability\n",
    "grouped_data.columns = ['Suburb', 'Number of Sales', 'Average Price', 'Min Price', 'Max Price',\n",
    "                        'Total Sales Count', 'Average Floor Area', 'Average Land Area']\n",
    "\n",
    "\n",
    "# Calculate price per square meter\n",
    "grouped_data['Price per sqm'] = grouped_data['Average Price'] / grouped_data['Average Floor Area']\n",
    "\n",
    "# Sort by price per square meter\n",
    "grouped_data_sorted = grouped_data.sort_values(by='Price per sqm')\n",
    "\n",
    "# Calculate the average decade built for each suburb\n",
    "average_decade_built = df.groupby('suburb')['decade_built'].mean().reset_index()\n",
    "\n",
    "# Merge the average decade built with the grouped data\n",
    "merged_data = pd.merge(grouped_data_sorted, average_decade_built, left_on='Suburb', right_on='suburb')\n",
    "\n",
    "print(merged_data)\n"
   ],
   "metadata": {
    "collapsed": false,
    "pycharm": {
     "name": "#%%\n"
    }
   }
  },
  {
   "cell_type": "code",
   "execution_count": null,
   "outputs": [],
   "source": [
    "# Ensure the 'date' column is in datetime format\n",
    "df['date'] = pd.to_datetime(df['date'])\n",
    "\n",
    "# Resample the data by month and calculate the total sales amount and sales count for each month\n",
    "monthly_sales_stats = df.resample('M', on='date').agg({\n",
    "    'price': ['sum', 'count']\n",
    "})\n",
    "\n",
    "# Plot the total sales amount and sales count over time\n",
    "fig, ax1 = plt.subplots(figsize=(12, 8))\n",
    "\n",
    "# Make the first plot: total sales amount\n",
    "color = 'tab:blue'\n",
    "ax1.set_xlabel('Date')\n",
    "ax1.set_ylabel('Total Sales Amount', color=color)\n",
    "ax1.plot(monthly_sales_stats.index, monthly_sales_stats[('price', 'sum')], color=color)\n",
    "ax1.tick_params(axis='y', labelcolor=color)\n",
    "\n",
    "# Create a second y-axis for the sales count\n",
    "ax2 = ax1.twinx()\n",
    "color = 'tab:red'\n",
    "ax2.set_ylabel('Sales Count', color=color)\n",
    "ax2.plot(monthly_sales_stats.index, monthly_sales_stats[('price', 'count')], color=color)\n",
    "ax2.tick_params(axis='y', labelcolor=color)\n",
    "\n",
    "# Set the title and show the plot\n",
    "plt.title('Monthly Sales Amount and Count over Time')\n",
    "plt.show()\n"
   ],
   "metadata": {
    "collapsed": false,
    "pycharm": {
     "name": "#%%\n"
    }
   }
  },
  {
   "cell_type": "code",
   "execution_count": null,
   "outputs": [],
   "source": [
    "# Resample the data by month and street, then count the number of sales for each combination\n",
    "monthly_sales_by_street = df.groupby(['suburb']).resample('M', on='date').size().unstack(0)\n",
    "\n",
    "# Plot the sales count for each street over time\n",
    "plt.figure(figsize=(15, 10))\n",
    "for street in monthly_sales_by_street.columns:\n",
    "    plt.plot(monthly_sales_by_street.index, monthly_sales_by_street[street], label=street)\n",
    "\n",
    "plt.title('Monthly Sales Count by Street over Time')\n",
    "plt.xlabel('Date')\n",
    "plt.ylabel('Sales Count')\n",
    "plt.legend(loc='upper left', bbox_to_anchor=(1, 1))\n",
    "plt.tight_layout()\n",
    "plt.show()"
   ],
   "metadata": {
    "collapsed": false,
    "pycharm": {
     "name": "#%%\n"
    }
   }
  }
 ],
 "metadata": {
  "kernelspec": {
   "display_name": "Python 3",
   "language": "python",
   "name": "python3"
  },
  "language_info": {
   "codemirror_mode": {
    "name": "ipython",
    "version": 2
   },
   "file_extension": ".py",
   "mimetype": "text/x-python",
   "name": "python",
   "nbconvert_exporter": "python",
   "pygments_lexer": "ipython2",
   "version": "2.7.6"
  }
 },
 "nbformat": 4,
 "nbformat_minor": 0
}